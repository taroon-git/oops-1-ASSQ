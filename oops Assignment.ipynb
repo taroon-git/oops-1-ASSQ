{
 "cells": [
  {
   "cell_type": "code",
   "execution_count": null,
   "id": "b65094f5-d89c-49b3-a3a4-a73c3090a150",
   "metadata": {},
   "outputs": [],
   "source": [
    "# Q:1- Classes and Objects\n",
    "\n",
    "Classes :-  are user-defined data types that act as the blueprint for individual objects, attributes and methods. \n",
    "Objects :-  are instances of a class created with specifically defined data.\n"
   ]
  },
  {
   "cell_type": "code",
   "execution_count": null,
   "id": "b32b1f40-492d-440e-bf0f-46358d5ec893",
   "metadata": {},
   "outputs": [],
   "source": [
    "# Q:2- The four pillars of oops are - \n",
    " 1.  Inheritence\n",
    " 2.  polymorphism\n",
    " 3.  encapsulation\n",
    " 4.  Abstraction"
   ]
  },
  {
   "cell_type": "code",
   "execution_count": null,
   "id": "438f4cdc-bde3-4e62-94db-0aa9901176fb",
   "metadata": {},
   "outputs": [],
   "source": []
  },
  {
   "cell_type": "code",
   "execution_count": null,
   "id": "73e4a688-cb51-4817-b32f-c74bc30e6422",
   "metadata": {},
   "outputs": [],
   "source": [
    "Q:3- All classes have a function called __init__(), which is always executed\n",
    "      when the class is being initiated.\n",
    ".     This __init__() is used to initialize a specific state of the application\n",
    "\n",
    "# For Example:- "
   ]
  },
  {
   "cell_type": "code",
   "execution_count": 10,
   "id": "b5ad55ae-88fd-4e8b-901e-203c0ce73226",
   "metadata": {},
   "outputs": [
    {
     "name": "stdout",
     "output_type": "stream",
     "text": [
      "Rohan\n",
      "22\n",
      "987574787\n"
     ]
    }
   ],
   "source": [
    "class management:\n",
    "    def __init__(self, emp_name , age, p_no):\n",
    "        self.name = emp_name\n",
    "        self.age = age\n",
    "        self.p_no = p_no\n",
    "        \n",
    "        \n",
    "mgmt = management(\"Rohan\", 22 , 987574787)\n",
    "print(mgmt.name)\n",
    "print(mgmt.age)\n",
    "print(mgmt.p_no)"
   ]
  },
  {
   "cell_type": "code",
   "execution_count": null,
   "id": "b08e2e7a-3b43-42ac-b47f-b206a89dbdad",
   "metadata": {},
   "outputs": [],
   "source": [
    "# Q:4- Why self is used in oops ?\n",
    "\n",
    "# self represents the instance of the class. By using the “self” we can access the attributes and methods of the class \n",
    "# in python.It binds the attributes with the given arguments.\n",
    "# The reason you need to use self. because Python does not use the @ syntax to refer to instance attributes"
   ]
  },
  {
   "cell_type": "code",
   "execution_count": 18,
   "id": "84e37cfc-8515-48af-83ab-ed4e2f8ff591",
   "metadata": {},
   "outputs": [
    {
     "name": "stdout",
     "output_type": "stream",
     "text": [
      "Hello\n"
     ]
    }
   ],
   "source": [
    "# For ex..\n",
    "class person :\n",
    "    def __init__(self, name, age):\n",
    "        self.name = name\n",
    "        self.age = age\n",
    "        \n",
    "p1 = person(\"Hello\",22)\n",
    "print(p1.name)\n"
   ]
  },
  {
   "cell_type": "code",
   "execution_count": null,
   "id": "2b55e459-0446-4528-b504-91de00a568b1",
   "metadata": {},
   "outputs": [],
   "source": [
    "# Q:5 What is Inheritence ?\n",
    "\n",
    " It is a mechanism that allows you to create a hierarchy of classes that share a set of properties and methods \n",
    "    \n",
    "    by deriving a class from another class.\n",
    "    \n",
    "    Inheritance is the capability of one class to derive or inherit the properties from another class\n",
    "    \n",
    "# Types of Inheritence \n",
    "It is mainly 5 types \n",
    "(1) Single Inheritance.\n",
    "(2) Multiple Inheritance.\n",
    "(3) Multilevel Inheritance.\n",
    "(4) Hierarchical Inheritance.\n",
    "(5) Hybrid Inheritance"
   ]
  }
 ],
 "metadata": {
  "kernelspec": {
   "display_name": "Python 3 (ipykernel)",
   "language": "python",
   "name": "python3"
  },
  "language_info": {
   "codemirror_mode": {
    "name": "ipython",
    "version": 3
   },
   "file_extension": ".py",
   "mimetype": "text/x-python",
   "name": "python",
   "nbconvert_exporter": "python",
   "pygments_lexer": "ipython3",
   "version": "3.10.6"
  }
 },
 "nbformat": 4,
 "nbformat_minor": 5
}
